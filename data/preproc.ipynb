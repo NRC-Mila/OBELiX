{
 "cells": [
  {
   "cell_type": "code",
   "execution_count": 26,
   "metadata": {},
   "outputs": [],
   "source": [
    "import pandas as pd\n",
    "from mendeleev.fetch import fetch_table\n",
    "import re\n",
    "import numpy as np"
   ]
  },
  {
   "cell_type": "code",
   "execution_count": 27,
   "metadata": {},
   "outputs": [
    {
     "data": {
      "text/plain": [
       "0       H\n",
       "1      He\n",
       "2      Li\n",
       "3      Be\n",
       "4       B\n",
       "       ..\n",
       "113    Fl\n",
       "114    Mc\n",
       "115    Lv\n",
       "116    Ts\n",
       "117    Og\n",
       "Name: symbol, Length: 118, dtype: object"
      ]
     },
     "execution_count": 27,
     "metadata": {},
     "output_type": "execute_result"
    }
   ],
   "source": [
    "data_df = pd.read_csv(\"20240124.csv\")\n",
    "elem_df = fetch_table(\"elements\")\n",
    "elem_df['symbol']"
   ]
  },
  {
   "cell_type": "code",
   "execution_count": 28,
   "metadata": {},
   "outputs": [],
   "source": [
    "def parse_sample(data):\n",
    "    parsed_data = []\n",
    "    elem_df = fetch_table(\"elements\")\n",
    "    all_elems = elem_df['symbol']\n",
    "    pat = re.compile(\"|\".join(all_elems.tolist()))\n",
    "    for s, sample in data.iterrows():\n",
    "        comp = sample[\"True Composition\"]\n",
    "        match = re.findall(pat, comp)\n",
    "        stoich = re.split(pat, comp)[1:]\n",
    "        dix = {}\n",
    "        dix[\"Space Group\"] = sample[\"Space group number\"]\n",
    "        dix[\"a\"] = sample[\"a\"]\n",
    "        dix[\"b\"] = sample[\"b\"]\n",
    "        dix[\"c\"] = sample[\"c\"]\n",
    "        dix[\"alpha\"] = sample[\"alpha\"]\n",
    "        dix[\"beta\"] = sample[\"beta\"]\n",
    "        dix[\"gamma\"] = sample[\"gamma\"]\n",
    "        for e in all_elems:\n",
    "            dix[e] = 0\n",
    "        for e, f in zip(match, stoich):\n",
    "            match = re.match(r\"([a-z]+)([0-9]+)\", f, re.I)\n",
    "            if match:\n",
    "                items = match.groups()\n",
    "                dix[e + items[0]] = float(items[1])\n",
    "            else:\n",
    "                dix[e] = float(f)\n",
    "        dix[\"IC\"] = sample[\"Ionic conductivity (S cm-1)\"]\n",
    "        parsed_data.append(dix)\n",
    "\n",
    "    return pd.DataFrame(parsed_data)\n",
    "    "
   ]
  },
  {
   "cell_type": "code",
   "execution_count": 29,
   "metadata": {},
   "outputs": [],
   "source": [
    "final = parse_sample(data_df)\n",
    "final\n",
    "final.to_csv(\"20240124v1.csv\", index=False)"
   ]
  },
  {
   "cell_type": "code",
   "execution_count": 30,
   "metadata": {},
   "outputs": [
    {
     "data": {
      "image/png": "[encoded data removed]",
      "text/plain": [
       "<Figure size 640x480 with 1 Axes>"
      ]
     },
     "metadata": {},
     "output_type": "display_data"
    }
   ],
   "source": [
    "# room temperature ionic conductivities\n",
    "# remove from all splits, but use proxy on them later\n",
    "# remove \"< 1e-8\"\n",
    "# remove \"remove < 1e-10\"\n",
    "\n",
    "# thresh = 1e-8\n",
    "# final.loc[final[\"IC\"] < thresh, \"IC\"] = thresh\n",
    "final[\"IC\"] = np.log10(final[\"IC\"])\n",
    "final.hist(column=[\"IC\"])\n",
    "\n",
    "# final.drop(columns=[\"IC\"], axis=1)\n",
    "fill_cols = (final != 0).any(axis=0)\n",
    "temp = final.loc[:, fill_cols]\n",
    "temp.to_csv(\"20240124v2.csv\")"
   ]
  },
  {
   "cell_type": "code",
   "execution_count": 31,
   "metadata": {},
   "outputs": [
    {
     "name": "stdout",
     "output_type": "stream",
     "text": [
      "['H', 'Li', 'B', 'C', 'N', 'O', 'F', 'Na', 'Mg', 'Al', 'Si', 'P', 'S', 'Cl', 'K', 'Ca', 'Sc', 'Ti', 'V', 'Cr', 'Mn', 'Fe', 'Cu', 'Zn', 'Ga', 'Ge', 'Se', 'Br', 'Sr', 'Y', 'Zr', 'Nb', 'Mo', 'Ag', 'Cd', 'In', 'Sn', 'Sb', 'Te', 'I', 'Ba', 'La', 'Ce', 'Pr', 'Nd', 'Sm', 'Er', 'Lu', 'Hf', 'Ta', 'W', 'Bi']\n",
      "[0, 2, 4, 5, 6, 7, 8, 10, 11, 12, 13, 14, 15, 16, 18, 19, 20, 21, 22, 23, 24, 25, 28, 29, 30, 31, 33, 34, 37, 38, 39, 40, 41, 46, 47, 48, 49, 50, 51, 52, 55, 56, 57, 58, 59, 61, 67, 70, 71, 72, 73, 82]\n"
     ]
    }
   ],
   "source": [
    "elem_ser = elem_df[\"symbol\"]\n",
    "print([f for f in final.columns[fill_cols][7:-1]])\n",
    "atomic_nums = [elem_ser[elem_ser == f].index.values[0] for f in final.columns[fill_cols][7:-1]]\n",
    "print(atomic_nums)"
   ]
  }
 ],
 "metadata": {
  "kernelspec": {
   "display_name": "materials",
   "language": "python",
   "name": "python3"
  },
  "language_info": {
   "codemirror_mode": {
    "name": "ipython",
    "version": 3
   },
   "file_extension": ".py",
   "mimetype": "text/x-python",
   "name": "python",
   "nbconvert_exporter": "python",
   "pygments_lexer": "ipython3",
   "version": "3.9.18"
  }
 },
 "nbformat": 4,
 "nbformat_minor": 2
}
