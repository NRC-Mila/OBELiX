{
 "cells": [
  {
   "cell_type": "code",
   "execution_count": 3,
   "metadata": {},
   "outputs": [],
   "source": [
    "import pandas as pd\n",
    "from mendeleev.fetch import fetch_table\n",
    "import re"
   ]
  },
  {
   "cell_type": "code",
   "execution_count": 4,
   "metadata": {},
   "outputs": [
    {
     "data": {
      "text/plain": [
       "0       H\n",
       "1      He\n",
       "2      Li\n",
       "3      Be\n",
       "4       B\n",
       "       ..\n",
       "113    Fl\n",
       "114    Mc\n",
       "115    Lv\n",
       "116    Ts\n",
       "117    Og\n",
       "Name: symbol, Length: 118, dtype: object"
      ]
     },
     "execution_count": 4,
     "metadata": {},
     "output_type": "execute_result"
    }
   ],
   "source": [
    "data_df = pd.read_csv(\"20231204v1.csv\")\n",
    "elem_df = fetch_table(\"elements\")\n",
    "elem_df['symbol']"
   ]
  },
  {
   "cell_type": "code",
   "execution_count": 5,
   "metadata": {},
   "outputs": [],
   "source": [
    "def parse_sample(data):\n",
    "    parsed_data = []\n",
    "    elem_df = fetch_table(\"elements\")\n",
    "    all_elems = elem_df['symbol']\n",
    "    pat = re.compile(\"|\".join(all_elems.tolist()))\n",
    "    for s, sample in data.iterrows():\n",
    "        comp = sample[\"True Composition\"]\n",
    "        match = re.findall(pat, comp)\n",
    "        stoich = re.split(pat, comp)[1:]\n",
    "        dix = {}\n",
    "        dix[\"Space Group\"] = sample[\"Space group number\"]\n",
    "        dix[\"a\"] = sample[\"a\"]\n",
    "        dix[\"b\"] = sample[\"b\"]\n",
    "        dix[\"c\"] = sample[\"c\"]\n",
    "        dix[\"alpha\"] = sample[\"alpha\"]\n",
    "        dix[\"beta\"] = sample[\"beta\"]\n",
    "        dix[\"gamma\"] = sample[\"gamma\"]\n",
    "        for e in all_elems:\n",
    "            dix[e] = 0\n",
    "        for e, f in zip(match, stoich):\n",
    "            match = re.match(r\"([a-z]+)([0-9]+)\", f, re.I)\n",
    "            if match:\n",
    "                items = match.groups()\n",
    "                dix[e + items[0]] = float(items[1])\n",
    "            else:\n",
    "                dix[e] = float(f)\n",
    "        dix[\"IC\"] = sample[\"Ionic conductivity (S cm-1)\"]\n",
    "        parsed_data.append(dix)\n",
    "\n",
    "    return pd.DataFrame(parsed_data)\n",
    "    "
   ]
  },
  {
   "cell_type": "code",
   "execution_count": 6,
   "metadata": {},
   "outputs": [],
   "source": [
    "final = parse_sample(data_df)\n",
    "final\n",
    "final.to_csv(\"20231204v2.csv\", index=False)"
   ]
  },
  {
   "cell_type": "code",
   "execution_count": null,
   "metadata": {},
   "outputs": [],
   "source": []
  }
 ],
 "metadata": {
  "kernelspec": {
   "display_name": "materials",
   "language": "python",
   "name": "python3"
  },
  "language_info": {
   "codemirror_mode": {
    "name": "ipython",
    "version": 3
   },
   "file_extension": ".py",
   "mimetype": "text/x-python",
   "name": "python",
   "nbconvert_exporter": "python",
   "pygments_lexer": "ipython3",
   "version": "3.9.18"
  }
 },
 "nbformat": 4,
 "nbformat_minor": 2
}
